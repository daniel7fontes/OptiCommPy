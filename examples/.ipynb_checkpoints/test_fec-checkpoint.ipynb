{
 "cells": [
  {
   "cell_type": "markdown",
   "id": "a296f085",
   "metadata": {},
   "source": [
    "<a href=\"https://colab.research.google.com/github/edsonportosilva/OptiCommPy/blob/main/examples/test_fec.ipynb\" target=\"_parent\"><img src=\"https://colab.research.google.com/assets/colab-badge.svg\" alt=\"Open In Colab\"/></a>"
   ]
  },
  {
   "cell_type": "code",
   "execution_count": 1,
   "id": "69ba8840",
   "metadata": {
    "ExecuteTime": {
     "end_time": "2023-01-28T22:04:01.980713Z",
     "start_time": "2023-01-28T22:04:01.960706Z"
    }
   },
   "outputs": [],
   "source": [
    "if 'google.colab' in str(get_ipython()):    \n",
    "    ! git clone -b main https://github.com/edsonportosilva/OptiCommPy\n",
    "    from os import chdir as cd\n",
    "    cd('/content/OptiCommPy/')\n",
    "    ! pip install . "
   ]
  },
  {
   "cell_type": "code",
   "execution_count": 2,
   "id": "b701cab7",
   "metadata": {
    "ExecuteTime": {
     "end_time": "2023-01-28T22:04:09.435133Z",
     "start_time": "2023-01-28T22:04:01.982701Z"
    }
   },
   "outputs": [],
   "source": [
    "from optic.modulation import modulateGray, demodulateGray, GrayMapping\n",
    "from optic.metrics import signal_power, calcLLR, fastBERcalc\n",
    "from optic.fec import ldpcEncode, ldpcDecode\n",
    "from optic.models import awgn\n",
    "import matplotlib.pyplot as plt\n",
    "import numpy as np\n",
    "import scipy as sp\n",
    "from scipy import io\n",
    "from tqdm.notebook import tqdm\n",
    "from numba import njit\n",
    "\n",
    "import os.path as path"
   ]
  },
  {
   "cell_type": "code",
   "execution_count": 3,
   "id": "83907e1c",
   "metadata": {
    "ExecuteTime": {
     "end_time": "2023-01-28T22:04:09.451135Z",
     "start_time": "2023-01-28T22:04:09.437117Z"
    }
   },
   "outputs": [],
   "source": [
    "from commpy.channelcoding import ldpc\n",
    "from commpy.channelcoding.ldpc import triang_ldpc_systematic_encode as encodeLDPC\n",
    "from commpy.channelcoding.ldpc import ldpc_bp_decode as decodeLDPC\n",
    "from commpy.channelcoding.interleavers import RandInterlv"
   ]
  },
  {
   "cell_type": "code",
   "execution_count": 4,
   "id": "f018dcc9",
   "metadata": {
    "ExecuteTime": {
     "end_time": "2023-01-28T22:04:09.579121Z",
     "start_time": "2023-01-28T22:04:09.454118Z"
    }
   },
   "outputs": [],
   "source": [
    "%load_ext autoreload\n",
    "%autoreload 2"
   ]
  },
  {
   "cell_type": "markdown",
   "id": "d73a900d",
   "metadata": {},
   "source": [
    "## Create LDPCparam files"
   ]
  },
  {
   "cell_type": "code",
   "execution_count": 5,
   "id": "a5921eee",
   "metadata": {
    "ExecuteTime": {
     "end_time": "2023-01-28T22:04:09.707137Z",
     "start_time": "2023-01-28T22:04:09.581120Z"
    }
   },
   "outputs": [],
   "source": [
    "pathdir = r'C:\\Users\\edson\\OneDrive\\Documentos\\GitHub\\robochameleon-private\\addons\\AR4JA_LDPC_FEC'\n",
    "#pathdir = r'C:\\Users\\edson\\OneDrive\\Documentos\\GitHub\\robochameleon-private\\addons\\IEEE_802_11n_LDPC_FEC'\n",
    "\n",
    "d = sp.io.loadmat(pathdir+'\\LDPC_AR4JA_1280b_R45.mat')\n",
    "#d = sp.io.loadmat(pathdir+'\\LDPC_11nD2_648b_R12.mat')\n",
    "#d = sp.io.loadmat('LDPC_AR4JA_1280b_R45.mat')\n",
    "H = d['H']\n",
    "\n",
    "#H = d['LDPC']['H'] # parity check matrix\n",
    "#H = H[0][0][0][0][0]\n",
    "#H = sp.sparse.csr_matrix.todense(H).astype(np.int8)\n",
    "#H = sp.sparse.csr_matrix(H)\n",
    "#H = np.asarray(H)\n",
    "\n",
    "# file_path = r'C:\\Users\\edson.DESKTOP-54IJM4F\\Documents\\GitHub\\OptiCommPy-private\\optic\\fecParams\\LDPC_ARJA_1280b_R45.txt'\n",
    "\n",
    "# ldpc.write_ldpc_params(H, file_path)"
   ]
  },
  {
   "cell_type": "code",
   "execution_count": 6,
   "id": "db4f38c2",
   "metadata": {
    "ExecuteTime": {
     "end_time": "2023-01-28T22:04:09.834116Z",
     "start_time": "2023-01-28T22:04:09.709119Z"
    }
   },
   "outputs": [
    {
     "data": {
      "text/plain": [
       "'C:\\\\Users\\\\edson\\\\OneDrive\\\\Documentos\\\\GitHub\\\\OptiCommPy-private\\\\optic\\\\fecParams\\\\LDPC_AR4JA_1280b_R45.txt'"
      ]
     },
     "execution_count": 6,
     "metadata": {},
     "output_type": "execute_result"
    }
   ],
   "source": [
    "# FEC parameters\n",
    "family = \"AR4JA\"\n",
    "R = 45\n",
    "n = 1280\n",
    "\n",
    "mainDir  = path.abspath(path.join(\"../\"))\n",
    "filename = '\\LDPC_' + family + '_' + str(n) + 'b_R' + str(R) + '.txt'\n",
    "filePath = mainDir + r'\\optic\\fecParams' + filename\n",
    "filePath"
   ]
  },
  {
   "cell_type": "code",
   "execution_count": 44,
   "id": "a8d34160",
   "metadata": {
    "ExecuteTime": {
     "end_time": "2023-01-28T22:39:12.588661Z",
     "start_time": "2023-01-28T22:39:12.457672Z"
    }
   },
   "outputs": [],
   "source": [
    "import numpy as np\n",
    "from scipy.sparse.linalg import inv\n",
    "from numba import njit\n",
    "\n",
    "def par2gen(H):\n",
    "    n = H.shape[1]\n",
    "    k = n - H.shape[0]\n",
    "    \n",
    "    Hs = gaussElim(H) # Reduce matrix to row echelon form\n",
    "    \n",
    "    # do the necessary column swaps\n",
    "    cols = np.arange(Hs.shape[1])    \n",
    "    indP = cols[np.sum(Hs[:, 0:],axis=0) > 1]  # indexes of cols belonging to matrix P\n",
    "    indI = cols[np.sum(Hs[:, 0:],axis=0) == 1] # indexes of cols belonging to the indentity\n",
    "    \n",
    "    Hnew = np.hstack((Hs[:,cols[indP]], \n",
    "                     Hs[:,cols[indI]]))\n",
    "    \n",
    "    colSwaps = np.hstack((indP, indI))\n",
    "        \n",
    "    # systematic generator matrix G\n",
    "    G = np.hstack((np.eye(k), Hnew[:,0:k].T))\n",
    "    \n",
    "    return G, colSwaps, Hnew\n",
    "\n",
    "\n",
    "def gaussElim(H):\n",
    "    if type(H) == sp.sparse.csr.csr_matrix:\n",
    "        matrix = sp.sparse.csr_matrix.todense(H).astype(np.int8) \n",
    "    elif type(H) == sp.sparse.csc.csc_matrix:\n",
    "        matrix = sp.sparse.csc_matrix.todense(H).astype(np.int8) \n",
    "    else:\n",
    "        matrix = H\n",
    "    # Reduce matrix to row echelon form\n",
    "    matrix = np.array(matrix, dtype=int)\n",
    "    \n",
    "    lead = 0\n",
    "    rowCount = matrix.shape[0]\n",
    "    columnCount = matrix.shape[1]\n",
    "    \n",
    "    for r in range(rowCount):\n",
    "        if lead >= columnCount:\n",
    "            return matrix\n",
    "        i = r\n",
    "        while matrix[i][lead] == 0:\n",
    "            i += 1\n",
    "            if i == rowCount:\n",
    "                i = r\n",
    "                lead += 1\n",
    "                if columnCount == lead:\n",
    "                    return matrix\n",
    "                \n",
    "        matrix[[i, r]] = matrix[[r, i]]\n",
    "        \n",
    "        lv = matrix[r][lead]\n",
    "        \n",
    "        matrix[r] = np.mod(matrix[r] // lv,2)\n",
    "           \n",
    "        for i in range(rowCount):\n",
    "            if i != r:\n",
    "                lv = matrix[i][lead]\n",
    "                matrix[i] = np.mod( matrix[i] - np.mod(lv * matrix[r],2), 2)\n",
    "        lead += 1\n",
    "    return matrix\n",
    "\n",
    "def encodeLDPC(G, bits):   \n",
    "    return np.mod(np.matmul(G.T, bits), 2)\n",
    "\n",
    "\n",
    "def BPDecoder(llr_array, H, MAX_ITER = 50):\n",
    "    \"\"\"\n",
    "    LLR decoding of multiple codewords using belief propagation algorithm\n",
    "    :param llr_array: 2D numpy array of LLR values of codewords\n",
    "    :param H: Non-standard parity-check matrix\n",
    "    :return: 2D numpy array of decoded LLR values\n",
    "    \"\"\"\n",
    "    # Number of rows and columns of the parity-check matrix\n",
    "    m, n = H.shape\n",
    "    \n",
    "    # Number of codewords\n",
    "    num_codewords = llr_array.shape[0]\n",
    "    \n",
    "    # Initialize the messages passed between check and variable nodes\n",
    "    check_to_var_msg = np.zeros((m, n))\n",
    "    final_llr_array = np.zeros(llr_array.shape)\n",
    "    \n",
    "    for indCw in tqdm(range(num_codewords)):\n",
    "        llr = llr_array[indCw, :]\n",
    "        var_to_check_msg = llr.copy()\n",
    "        # Iterate until the stopping criterion is met\n",
    "        for indIter in range(MAX_ITER):\n",
    "            # Update messages passed from variable to check nodes\n",
    "            for j in range(n):\n",
    "                indices = np.argwhere(H[:, j] == 1)[0]\n",
    "                var_to_check_msg[j] = llr[j] + np.sum(check_to_var_msg[indices, j])\n",
    "            \n",
    "            # Update messages passed from check to variable nodes\n",
    "            for i in range(m):\n",
    "                indices = np.argwhere(H[i, :] == 1)[0]\n",
    "                prod = np.prod(np.tanh(var_to_check_msg[indices]/2))\n",
    "                check_to_var_msg[i, indices] = 2*np.arctanh(prod)\n",
    "            \n",
    "        # Compute the final LLRs\n",
    "        final_llr = llr + np.sum(check_to_var_msg, axis=0)\n",
    "        final_llr_array[indCw, :] = final_llr\n",
    "        \n",
    "    return final_llr_array\n",
    "\n",
    "\n"
   ]
  },
  {
   "cell_type": "code",
   "execution_count": 8,
   "id": "8500f380",
   "metadata": {
    "ExecuteTime": {
     "end_time": "2023-01-28T22:04:10.295189Z",
     "start_time": "2023-01-28T22:04:09.963118Z"
    }
   },
   "outputs": [
    {
     "data": {
      "text/plain": [
       "<matplotlib.image.AxesImage at 0x1720e31e4c0>"
      ]
     },
     "execution_count": 8,
     "metadata": {},
     "output_type": "execute_result"
    },
    {
     "data": {
      "image/png": "[encoded data removed]",
      "text/plain": [
       "<Figure size 432x288 with 1 Axes>"
      ]
     },
     "metadata": {
      "needs_background": "light"
     },
     "output_type": "display_data"
    }
   ],
   "source": [
    "plt.imshow(sp.sparse.csr_matrix.todense(H).astype(np.int8))"
   ]
  },
  {
   "cell_type": "code",
   "execution_count": 9,
   "id": "abc841fd",
   "metadata": {
    "ExecuteTime": {
     "end_time": "2023-01-28T22:04:14.258185Z",
     "start_time": "2023-01-28T22:04:10.297175Z"
    }
   },
   "outputs": [],
   "source": [
    "G, colSwaps, Hnew = par2gen(H)\n",
    "\n",
    "revertColSwaps = np.argsort(colSwaps)"
   ]
  },
  {
   "cell_type": "code",
   "execution_count": 10,
   "id": "0254e57d",
   "metadata": {
    "ExecuteTime": {
     "end_time": "2023-01-28T22:04:15.210182Z",
     "start_time": "2023-01-28T22:04:14.261173Z"
    }
   },
   "outputs": [
    {
     "data": {
      "image/png": "[encoded data removed]",
      "text/plain": [
       "<Figure size 432x288 with 1 Axes>"
      ]
     },
     "metadata": {
      "needs_background": "light"
     },
     "output_type": "display_data"
    },
    {
     "data": {
      "image/png": "[encoded data removed]",
      "text/plain": [
       "<Figure size 432x288 with 1 Axes>"
      ]
     },
     "metadata": {
      "needs_background": "light"
     },
     "output_type": "display_data"
    },
    {
     "data": {
      "image/png": "[encoded data removed]",
      "text/plain": [
       "<Figure size 432x288 with 1 Axes>"
      ]
     },
     "metadata": {
      "needs_background": "light"
     },
     "output_type": "display_data"
    },
    {
     "data": {
      "image/png": "[encoded data removed]",
      "text/plain": [
       "<Figure size 432x288 with 1 Axes>"
      ]
     },
     "metadata": {
      "needs_background": "light"
     },
     "output_type": "display_data"
    },
    {
     "data": {
      "image/png": "[encoded data removed]",
      "text/plain": [
       "<Figure size 432x288 with 1 Axes>"
      ]
     },
     "metadata": {
      "needs_background": "light"
     },
     "output_type": "display_data"
    }
   ],
   "source": [
    "plt.imshow(sp.sparse.csr_matrix.todense(H).astype(np.int8));\n",
    "plt.figure()\n",
    "plt.imshow(Hnew);\n",
    "plt.figure()\n",
    "plt.imshow(G);\n",
    "plt.figure()\n",
    "plt.imshow(np.mod(G[:,revertColSwaps]@H.T, 2));\n",
    "plt.figure()\n",
    "plt.imshow(np.mod(G@Hnew.T, 2));"
   ]
  },
  {
   "cell_type": "code",
   "execution_count": 11,
   "id": "1895f867",
   "metadata": {
    "ExecuteTime": {
     "end_time": "2023-01-28T22:04:15.334193Z",
     "start_time": "2023-01-28T22:04:15.212175Z"
    }
   },
   "outputs": [
    {
     "name": "stdout",
     "output_type": "stream",
     "text": [
      "H : (384, 1408)\n",
      "G : (1024, 1408)\n",
      "n =  1408\n",
      "k =  1024\n",
      "R =  0.8\n"
     ]
    }
   ],
   "source": [
    "print('H :', H.shape)\n",
    "print('G :', G.shape)\n",
    "print('n = ', H.shape[1])\n",
    "print('k = ', G.shape[0])\n",
    "print('R = ', round(G.shape[0]/1280,2))"
   ]
  },
  {
   "cell_type": "code",
   "execution_count": 12,
   "id": "d4223d32",
   "metadata": {
    "ExecuteTime": {
     "end_time": "2023-01-28T22:04:15.461171Z",
     "start_time": "2023-01-28T22:04:15.336187Z"
    }
   },
   "outputs": [],
   "source": [
    "Nwords = 10\n",
    "\n",
    "# generate random bits\n",
    "bits = np.random.randint(2, size = (G.shape[0], Nwords))\n",
    "\n",
    "codedbits = encodeLDPC(G, bits)"
   ]
  },
  {
   "cell_type": "code",
   "execution_count": 62,
   "id": "40c72305",
   "metadata": {
    "ExecuteTime": {
     "end_time": "2023-01-28T22:55:54.621762Z",
     "start_time": "2023-01-28T22:55:54.241751Z"
    },
    "lines_to_next_cell": 0
   },
   "outputs": [
    {
     "name": "stdout",
     "output_type": "stream",
     "text": [
      "BER = 2.60e-03\n",
      "(3, 1408)\n"
     ]
    }
   ],
   "source": [
    "# Run AWGN simulation \n",
    "EbN0dB = 15\n",
    "M      = 64\n",
    "Nwords = 3\n",
    "nIter  = 10\n",
    "\n",
    "# FEC parameters\n",
    "LDPCparams = ldpc.get_ldpc_code_params(filePath)\n",
    "K = LDPCparams['n_vnodes'] - LDPCparams['n_cnodes']\n",
    "\n",
    "LDPCparams['filename'] = filename\n",
    "\n",
    "# modulation parameters\n",
    "constSymb = GrayMapping(M,'qam')        # constellation\n",
    "bitMap = demodulateGray(constSymb, M, 'qam') # bit mapping\n",
    "bitMap = bitMap.reshape(-1, int(np.log2(M)))\n",
    "Es = signal_power(constSymb)                 # mean symbol energy\n",
    "\n",
    "# generate random bits\n",
    "bits = np.random.randint(2, size = (K, Nwords))\n",
    "\n",
    "# encode data bits with LDPC soft-FEC\n",
    "# bitsTx, codedBitsTx, interlv = ldpcEncode(bits, LDPCparams)\n",
    "# codedBitsTx = ldpcEncode(bits, LDPCparams)\n",
    "codedBits = encodeLDPC(G, bits).astype(int)\n",
    "codedBitsTx = codedBits[0:1280,:]\n",
    "codedBitsTx = (codedBitsTx.T).reshape(1, -1).T\n",
    "\n",
    "# Map bits to constellation symbols\n",
    "symbTx = modulateGray(codedBitsTx, M, 'qam')\n",
    "\n",
    "# Normalize symbols energy to 1\n",
    "symbTx = symbTx/np.sqrt(signal_power(symbTx))\n",
    "\n",
    "# AWGN    \n",
    "snrdB  = EbN0dB + 10*np.log10(np.log2(M))\n",
    "symbRx = awgn(symbTx, snrdB)\n",
    "\n",
    "# pre-FEC BER calculation (hard demodulation)\n",
    "BER, _, _ = fastBERcalc(symbRx, symbTx, M, 'qam')\n",
    "print('BER = %.2e'%BER[0])\n",
    "\n",
    "# soft-demodulation\n",
    "noiseVar = 1/10**(snrdB/10)\n",
    "px = np.ones(M)/M\n",
    "llr = calcLLR(symbRx, noiseVar, constSymb/np.sqrt(Es), bitMap, px)\n",
    "\n",
    "# soft-FEC decoding\n",
    "_, decodedBits_hd, llr_out = ldpcDecode(llr, revertColSwaps, LDPCparams, nIter, alg=\"SPA\")\n",
    "#decodedBits, llr_out = ldpcDecode(llr, interlv, LDPCparams, nIter, alg=\"SPA\")\n",
    "\n",
    "# N = LDPCparams[\"n_vnodes\"]   \n",
    "# n = 1280        \n",
    "# dep = int(N-n)\n",
    "\n",
    "# # reshape received LLRs\n",
    "# llr_array = llr.reshape(-1, n)    \n",
    "\n",
    "# # depuncturing\n",
    "# if dep > 0:\n",
    "#     llr_array = np.concatenate((llr_array, np.zeros((llr_array.shape[0], dep))), axis=1)\n",
    "\n",
    "# llr_array = llr_array[:, revertColSwaps]\n",
    "    \n",
    "# llr_out = BPDecoder(llr_array, H)\n",
    "\n",
    "# print(llr_out.shape)"
   ]
  },
  {
   "cell_type": "code",
   "execution_count": 63,
   "id": "4db6bec7",
   "metadata": {
    "ExecuteTime": {
     "end_time": "2023-01-28T22:55:59.572136Z",
     "start_time": "2023-01-28T22:55:59.452147Z"
    },
    "lines_to_next_cell": 0
   },
   "outputs": [
    {
     "name": "stdout",
     "output_type": "stream",
     "text": [
      "BERpreFEC = 2.28e-03\n",
      "BERpostFEC = 5.17e-01\n",
      "Number of bits =  4224\n"
     ]
    },
    {
     "name": "stderr",
     "output_type": "stream",
     "text": [
      "C:\\Users\\edson\\AppData\\Local\\Temp\\ipykernel_21108\\2374432740.py:2: RuntimeWarning: invalid value encountered in floor_divide\n",
      "  decodedBits = (-np.sign(llrs)+1)//2\n"
     ]
    }
   ],
   "source": [
    "llrs = llr_out[colSwaps,:]\n",
    "decodedBits = (-np.sign(llrs)+1)//2\n",
    "\n",
    "# post-FEC BER calculation\n",
    "BERpre = np.mean(np.logical_xor(bits, decodedBits_hd[0:K,:]))\n",
    "BERpost = np.mean(np.logical_xor(bits, decodedBits[0:K,:]))\n",
    "\n",
    "print('BERpreFEC = %.2e'%BERpre)\n",
    "print('BERpostFEC = %.2e'%BERpost)\n",
    "print('Number of bits = ', decodedBits.size)"
   ]
  },
  {
   "cell_type": "code",
   "execution_count": 67,
   "id": "9905b976",
   "metadata": {
    "ExecuteTime": {
     "end_time": "2023-01-28T22:57:30.854019Z",
     "start_time": "2023-01-28T22:57:30.739018Z"
    }
   },
   "outputs": [
    {
     "data": {
      "text/plain": [
       "array([-156.45928638,   16.01277931,  -20.12753692, ...,  -20.55214367,\n",
       "        -67.31666152,   15.58817262])"
      ]
     },
     "execution_count": 67,
     "metadata": {},
     "output_type": "execute_result"
    }
   ],
   "source": [
    "llr"
   ]
  },
  {
   "cell_type": "code",
   "execution_count": 81,
   "id": "23f838fb",
   "metadata": {
    "ExecuteTime": {
     "end_time": "2023-01-25T17:19:29.256827Z",
     "start_time": "2023-01-25T17:19:28.983825Z"
    }
   },
   "outputs": [
    {
     "data": {
      "image/png": "[encoded data removed]",
      "text/plain": [
       "<Figure size 432x288 with 1 Axes>"
      ]
     },
     "metadata": {
      "needs_background": "light"
     },
     "output_type": "display_data"
    }
   ],
   "source": [
    "plt.imshow(sp.sparse.csr_matrix.todense(LDPCparams['parity_check_matrix']).astype(np.int8));"
   ]
  },
  {
   "cell_type": "code",
   "execution_count": 84,
   "id": "206950ec",
   "metadata": {
    "ExecuteTime": {
     "end_time": "2023-01-25T17:21:20.558393Z",
     "start_time": "2023-01-25T17:21:20.328406Z"
    }
   },
   "outputs": [
    {
     "data": {
      "image/png": "[encoded data removed]",
      "text/plain": [
       "<Figure size 432x288 with 1 Axes>"
      ]
     },
     "metadata": {
      "needs_background": "light"
     },
     "output_type": "display_data"
    }
   ],
   "source": [
    "plt.imshow(sp.sparse.csr_matrix.todense(LDPCparams['generator_matrix']).astype(np.int8));"
   ]
  },
  {
   "cell_type": "code",
   "execution_count": 143,
   "id": "4247efe6",
   "metadata": {
    "ExecuteTime": {
     "end_time": "2023-01-25T18:07:01.482013Z",
     "start_time": "2023-01-25T18:07:01.265993Z"
    }
   },
   "outputs": [
    {
     "data": {
      "text/plain": [
       "<matplotlib.image.AxesImage at 0x2b24f9df490>"
      ]
     },
     "execution_count": 143,
     "metadata": {},
     "output_type": "execute_result"
    },
    {
     "data": {
      "image/png": "[encoded data removed]",
      "text/plain": [
       "<Figure size 432x288 with 1 Axes>"
      ]
     },
     "metadata": {
      "needs_background": "light"
     },
     "output_type": "display_data"
    }
   ],
   "source": [
    "plt.imshow((H@decodedBits[revertColSwaps,:])%2)"
   ]
  },
  {
   "cell_type": "code",
   "execution_count": 144,
   "id": "0bed0d15",
   "metadata": {
    "ExecuteTime": {
     "end_time": "2023-01-25T18:07:08.816018Z",
     "start_time": "2023-01-25T18:07:08.606016Z"
    }
   },
   "outputs": [
    {
     "data": {
      "text/plain": [
       "<matplotlib.image.AxesImage at 0x2b24fa49970>"
      ]
     },
     "execution_count": 144,
     "metadata": {},
     "output_type": "execute_result"
    },
    {
     "data": {
      "image/png": "[encoded data removed]",
      "text/plain": [
       "<Figure size 432x288 with 1 Axes>"
      ]
     },
     "metadata": {
      "needs_background": "light"
     },
     "output_type": "display_data"
    }
   ],
   "source": [
    "plt.imshow((H@codedBits[revertColSwaps,:])%2)"
   ]
  },
  {
   "cell_type": "code",
   "execution_count": 131,
   "id": "a0cded86",
   "metadata": {
    "ExecuteTime": {
     "end_time": "2023-01-25T18:01:04.457756Z",
     "start_time": "2023-01-25T18:01:04.343742Z"
    }
   },
   "outputs": [
    {
     "data": {
      "text/plain": [
       "(1408, 60)"
      ]
     },
     "execution_count": 131,
     "metadata": {},
     "output_type": "execute_result"
    }
   ],
   "source": [
    "decodedBits.shape"
   ]
  },
  {
   "cell_type": "code",
   "execution_count": null,
   "id": "ddaa0c16",
   "metadata": {},
   "outputs": [],
   "source": [
    "Nwords = 10\n",
    "nIter  = 50\n",
    "\n",
    "# FEC parameters\n",
    "LDPCparams = ldpc.get_ldpc_code_params(filePath)\n",
    "LDPCparams['filename'] = filename\n",
    "K = LDPCparams['n_vnodes'] - LDPCparams['n_cnodes']\n",
    "\n",
    "# Run BER vs Ebn0 Monte Carlo simulation \n",
    "qamOrder  = [64]  # Modulation order\n",
    "EbN0dB_  = np.arange(7, 9.5, 0.05)\n",
    "\n",
    "BERpre   = np.zeros((len(EbN0dB_),len(qamOrder)))\n",
    "BERpost  = np.zeros((len(EbN0dB_),len(qamOrder)))\n",
    "\n",
    "BERpre[:]  = np.nan\n",
    "BERpost[:] = np.nan\n",
    "\n",
    "for ii, M in enumerate(qamOrder):\n",
    "    print('run sim: M = ', M)\n",
    "\n",
    "    # modulation parameters\n",
    "    constSymb = GrayMapping(M,'qam')        # constellation\n",
    "    bitMap = demodulateGray(constSymb, M, 'qam') # bit mapping\n",
    "    bitMap = bitMap.reshape(-1, int(np.log2(M)))\n",
    "    Es = signal_power(constSymb) # mean symbol energy\n",
    "\n",
    "    for indSNR in tqdm(range(EbN0dB_.size)):\n",
    "\n",
    "        EbN0dB = EbN0dB_[indSNR]\n",
    "\n",
    "        # generate random bits\n",
    "        bits = np.random.randint(2, size = (K, Nwords))\n",
    "\n",
    "        # encode data bits with LDPC soft-FEC\n",
    "        bitsTx, codedBitsTx, interlv = ldpcEncode(bits, LDPCparams)\n",
    "\n",
    "        # Map bits to constellation symbols\n",
    "        symbTx = modulateGray(bitsTx, M, 'qam')\n",
    "\n",
    "        # Normalize symbols energy to 1\n",
    "        symbTx = symbTx/np.sqrt(signal_power(symbTx))\n",
    "\n",
    "        # AWGN    \n",
    "        snrdB = EbN0dB + 10*np.log10(np.log2(M))\n",
    "        symbRx = awgn(symbTx, snrdB)\n",
    "\n",
    "        # pre-FEC BER calculation (hard demodulation)\n",
    "        BERpre[indSNR, ii], _, _ = fastBERcalc(symbRx, symbTx, M, 'qam')\n",
    "        #print('BER = %.2e'%BERpre[indSNR, ii])\n",
    "\n",
    "        # soft-demodulation\n",
    "        noiseVar = 1/10**(snrdB/10)\n",
    "        llr = calcLLR(symbRx, noiseVar, constSymb/np.sqrt(Es), bitMap)\n",
    "\n",
    "        # soft-FEC decoding\n",
    "        decodedBits, llr_out = ldpcDecode(llr, interlv, LDPCparams, nIter, alg=\"SPA\")\n",
    "\n",
    "        # post-FEC BER calculation\n",
    "        BERpost[indSNR, ii] = np.mean(np.logical_xor(codedBitsTx, decodedBits))\n",
    "        #print('BERpostFEC = %.2e'%BERpost[indSNR, ii])"
   ]
  },
  {
   "cell_type": "code",
   "execution_count": 9,
   "id": "c6c7b223",
   "metadata": {
    "ExecuteTime": {
     "end_time": "2022-11-21T15:28:38.755878Z",
     "start_time": "2022-11-21T15:28:38.163040Z"
    }
   },
   "outputs": [
    {
     "data": {
      "image/png": "[encoded data removed]",
      "text/plain": [
       "<Figure size 720x432 with 1 Axes>"
      ]
     },
     "metadata": {
      "needs_background": "light"
     },
     "output_type": "display_data"
    }
   ],
   "source": [
    "# Plot simulation results       \n",
    "BERpre[BERpre==0] = np.nan\n",
    "BERpost[BERpost==0] = np.nan\n",
    "\n",
    "plt.figure(figsize=(10,6))\n",
    "for ii, M in enumerate(qamOrder):\n",
    "    plt.plot(\n",
    "        EbN0dB_,\n",
    "        np.log10(BERpre[:, ii]),\n",
    "        'o-',\n",
    "        label=f'{str(M)}QAM monte carlo [pre]',\n",
    "    )\n",
    "\n",
    "\n",
    "#plt.gca().set_prop_cycle(None)\n",
    "\n",
    "for ii, M in enumerate(qamOrder):\n",
    "    plt.plot(\n",
    "        EbN0dB_,\n",
    "        np.log10(BERpost[:, ii]),\n",
    "        'kx-',\n",
    "        label=f'{str(M)}QAM monte carlo [post]',\n",
    "    )\n",
    "\n",
    "\n",
    "plt.xlim(min(EbN0dB_), max(EbN0dB_))\n",
    "plt.ylim(-6, 0)\n",
    "plt.legend();\n",
    "plt.xlabel('EbN0 [dB]');\n",
    "plt.ylabel('log10(BER)');\n",
    "plt.grid()"
   ]
  },
  {
   "cell_type": "code",
   "execution_count": 70,
   "id": "cedd3996",
   "metadata": {
    "ExecuteTime": {
     "end_time": "2023-01-18T15:00:49.035197Z",
     "start_time": "2023-01-18T15:00:48.911182Z"
    }
   },
   "outputs": [],
   "source": [
    "import scipy as sp\n",
    "\n",
    "def binaryproduct(X, Y):\n",
    "    \"\"\"Compute a matrix-matrix / vector product in Z/2Z.\"\"\"\n",
    "    A = X.dot(Y)\n",
    "    \n",
    "    try:\n",
    "          A = A.toarray()\n",
    "    except AttributeError:\n",
    "          pass\n",
    "    return A % 2\n",
    "\n",
    "def gaussjordan(X, change=0):\n",
    "    \"\"\"Compute the binary row reduced echelon form of X.\n",
    "    Parameters\n",
    "    ----------\n",
    "    X: array (m, n)\n",
    "    change : boolean (default, False). If True returns the inverse transform\n",
    "    Returns\n",
    "    -------\n",
    "    if `change` == 'True':\n",
    "        A: array (m, n). row reduced form of X.\n",
    "        P: tranformations applied to the identity\n",
    "    else:\n",
    "        A: array (m, n). row reduced form of X.\n",
    "    \"\"\"    \n",
    "    A = np.copy(X)    \n",
    "    m, n = A.shape\n",
    "\n",
    "    if change:\n",
    "        P = np.identity(m).astype(int)\n",
    "\n",
    "    pivot_old = -1\n",
    "    \n",
    "    for j in range(n):\n",
    "        filtre_down = A[pivot_old+1:m, j]\n",
    "        pivot = np.argmax(filtre_down)+pivot_old+1\n",
    "\n",
    "        if A[pivot, j]:\n",
    "            pivot_old += 1\n",
    "            if pivot_old != pivot:\n",
    "                aux = np.copy(A[pivot, :])\n",
    "                A[pivot, :] = A[pivot_old, :]\n",
    "                A[pivot_old, :] = aux\n",
    "\n",
    "            if change:\n",
    "                aux = np.copy(P[pivot, :])\n",
    "                P[pivot, :] = P[pivot_old, :]\n",
    "                P[pivot_old, :] = aux\n",
    "\n",
    "            for i in range(m):\n",
    "                  if i != pivot_old and A[i, j]:\n",
    "                        if change:\n",
    "                            P[i, :] = abs(P[i, :]-P[pivot_old, :])\n",
    "                        A[i, :] = abs(A[i, :]-A[pivot_old, :])\n",
    "\n",
    "        if pivot_old == m-1:\n",
    "            break\n",
    "\n",
    "    if change:\n",
    "        return A, P\n",
    "    else:\n",
    "        return A\n",
    "\n",
    "\n",
    "def HtotG(H,sparse=True):\n",
    "    \"\"\"Return the generating coding matrix G given the LDPC matrix H.\n",
    "    Parameters\n",
    "    ----------\n",
    "    H: array (n_equations, n_code). Parity check matrix of an LDPC code with\n",
    "        code length `n_code` and `n_equations` number of equations.\n",
    "    sparse: (boolean, default True): if `True`, scipy.sparse format is used\n",
    "        to speed up computation.\n",
    "    Returns\n",
    "    -------\n",
    "    G.T: array (n_bits, n_code). Transposed coding matrix.\n",
    "    \"\"\"     \n",
    "    if type(H) == sp.sparse.csr.csr_matrix:\n",
    "        H = H.toarray()       \n",
    "   \n",
    "    n_equations, n_code = H.shape\n",
    "   \n",
    "    # DOUBLE GAUSS-JORDAN:\n",
    "    Href_col, tQ = gaussjordan(H.T, 1)\n",
    "    Href_diag = gaussjordan(np.transpose(Href_col))   \n",
    "\n",
    "    Q = tQ.T\n",
    "\n",
    "    n_bits = int(n_code - Href_diag.sum())\n",
    "\n",
    "    Y = np.zeros(shape=(n_code, n_bits)).astype(int)\n",
    "    Y[n_code - n_bits:, :] = np.identity(n_bits)\n",
    "\n",
    "    if sparse:\n",
    "        Q = sp.sparse.csr_matrix(Q)\n",
    "        Y = sp.sparse.csr_matrix(Y)\n",
    "\n",
    "    tG = binaryproduct(Q, Y)\n",
    "\n",
    "    return tG"
   ]
  },
  {
   "cell_type": "code",
   "execution_count": 59,
   "id": "654567cb",
   "metadata": {
    "ExecuteTime": {
     "end_time": "2023-01-28T22:54:03.744022Z",
     "start_time": "2023-01-28T22:54:03.620023Z"
    }
   },
   "outputs": [],
   "source": [
    "x = np.array([[1, 2, 3], [4, 5, 6]])"
   ]
  },
  {
   "cell_type": "code",
   "execution_count": 60,
   "id": "6957ab04",
   "metadata": {
    "ExecuteTime": {
     "end_time": "2023-01-28T22:54:14.115840Z",
     "start_time": "2023-01-28T22:54:13.998841Z"
    }
   },
   "outputs": [
    {
     "data": {
      "text/plain": [
       "array([[1, 2],\n",
       "       [3, 4],\n",
       "       [5, 6]])"
      ]
     },
     "execution_count": 60,
     "metadata": {},
     "output_type": "execute_result"
    }
   ],
   "source": [
    "x.reshape(-1,2)"
   ]
  },
  {
   "cell_type": "code",
   "execution_count": 61,
   "id": "1a63c035",
   "metadata": {
    "ExecuteTime": {
     "end_time": "2023-01-28T22:54:32.536029Z",
     "start_time": "2023-01-28T22:54:32.425034Z"
    }
   },
   "outputs": [
    {
     "data": {
      "text/plain": [
       "array([1, 2, 3, 4, 5, 6])"
      ]
     },
     "execution_count": 61,
     "metadata": {},
     "output_type": "execute_result"
    }
   ],
   "source": [
    "x.ravel()"
   ]
  },
  {
   "cell_type": "code",
   "execution_count": null,
   "id": "09bf4fc5",
   "metadata": {},
   "outputs": [],
   "source": []
  }
 ],
 "metadata": {
  "colab": {
   "provenance": []
  },
  "jupytext": {
   "encoding": "# -*- coding: utf-8 -*-",
   "formats": "ipynb,py:light"
  },
  "kernelspec": {
   "display_name": "Python 3 (ipykernel)",
   "language": "python",
   "name": "python3"
  },
  "language_info": {
   "codemirror_mode": {
    "name": "ipython",
    "version": 3
   },
   "file_extension": ".py",
   "mimetype": "text/x-python",
   "name": "python",
   "nbconvert_exporter": "python",
   "pygments_lexer": "ipython3",
   "version": "3.9.12"
  },
  "toc": {
   "base_numbering": 1,
   "nav_menu": {},
   "number_sections": true,
   "sideBar": true,
   "skip_h1_title": true,
   "title_cell": "Table of Contents",
   "title_sidebar": "Contents",
   "toc_cell": true,
   "toc_position": {},
   "toc_section_display": true,
   "toc_window_display": false
  },
  "varInspector": {
   "cols": {
    "lenName": 16,
    "lenType": 16,
    "lenVar": 40
   },
   "kernels_config": {
    "python": {
     "delete_cmd_postfix": "",
     "delete_cmd_prefix": "del ",
     "library": "var_list.py",
     "varRefreshCmd": "print(var_dic_list())"
    },
    "r": {
     "delete_cmd_postfix": ") ",
     "delete_cmd_prefix": "rm(",
     "library": "var_list.r",
     "varRefreshCmd": "cat(var_dic_list()) "
    }
   },
   "types_to_exclude": [
    "module",
    "function",
    "builtin_function_or_method",
    "instance",
    "_Feature"
   ],
   "window_display": false
  },
  "widgets": {
   "application/vnd.jupyter.widget-state+json": {
    "33567e6ce4b94000ba1a6259d49cd6df": {
     "model_module": "@jupyter-widgets/controls",
     "model_module_version": "1.5.0",
     "model_name": "ProgressStyleModel",
     "state": {
      "_model_module": "@jupyter-widgets/controls",
      "_model_module_version": "1.5.0",
      "_model_name": "ProgressStyleModel",
      "_view_count": null,
      "_view_module": "@jupyter-widgets/base",
      "_view_module_version": "1.2.0",
      "_view_name": "StyleView",
      "bar_color": null,
      "description_width": ""
     }
    },
    "58a287ff76064e6abed8278653c6b68b": {
     "model_module": "@jupyter-widgets/controls",
     "model_module_version": "1.5.0",
     "model_name": "HTMLModel",
     "state": {
      "_dom_classes": [],
      "_model_module": "@jupyter-widgets/controls",
      "_model_module_version": "1.5.0",
      "_model_name": "HTMLModel",
      "_view_count": null,
      "_view_module": "@jupyter-widgets/controls",
      "_view_module_version": "1.5.0",
      "_view_name": "HTMLView",
      "description": "",
      "description_tooltip": null,
      "layout": "IPY_MODEL_7e84fc7da03343218c2ee7e6540bc425",
      "placeholder": "​",
      "style": "IPY_MODEL_d02ade898b914a03a54f8616944f1e5a",
      "value": "100%"
     }
    },
    "6ba12c3bb4d34bd7863fa323d92e32fa": {
     "model_module": "@jupyter-widgets/base",
     "model_module_version": "1.2.0",
     "model_name": "LayoutModel",
     "state": {
      "_model_module": "@jupyter-widgets/base",
      "_model_module_version": "1.2.0",
      "_model_name": "LayoutModel",
      "_view_count": null,
      "_view_module": "@jupyter-widgets/base",
      "_view_module_version": "1.2.0",
      "_view_name": "LayoutView",
      "align_content": null,
      "align_items": null,
      "align_self": null,
      "border": null,
      "bottom": null,
      "display": null,
      "flex": null,
      "flex_flow": null,
      "grid_area": null,
      "grid_auto_columns": null,
      "grid_auto_flow": null,
      "grid_auto_rows": null,
      "grid_column": null,
      "grid_gap": null,
      "grid_row": null,
      "grid_template_areas": null,
      "grid_template_columns": null,
      "grid_template_rows": null,
      "height": null,
      "justify_content": null,
      "justify_items": null,
      "left": null,
      "margin": null,
      "max_height": null,
      "max_width": null,
      "min_height": null,
      "min_width": null,
      "object_fit": null,
      "object_position": null,
      "order": null,
      "overflow": null,
      "overflow_x": null,
      "overflow_y": null,
      "padding": null,
      "right": null,
      "top": null,
      "visibility": null,
      "width": null
     }
    },
    "7e84fc7da03343218c2ee7e6540bc425": {
     "model_module": "@jupyter-widgets/base",
     "model_module_version": "1.2.0",
     "model_name": "LayoutModel",
     "state": {
      "_model_module": "@jupyter-widgets/base",
      "_model_module_version": "1.2.0",
      "_model_name": "LayoutModel",
      "_view_count": null,
      "_view_module": "@jupyter-widgets/base",
      "_view_module_version": "1.2.0",
      "_view_name": "LayoutView",
      "align_content": null,
      "align_items": null,
      "align_self": null,
      "border": null,
      "bottom": null,
      "display": null,
      "flex": null,
      "flex_flow": null,
      "grid_area": null,
      "grid_auto_columns": null,
      "grid_auto_flow": null,
      "grid_auto_rows": null,
      "grid_column": null,
      "grid_gap": null,
      "grid_row": null,
      "grid_template_areas": null,
      "grid_template_columns": null,
      "grid_template_rows": null,
      "height": null,
      "justify_content": null,
      "justify_items": null,
      "left": null,
      "margin": null,
      "max_height": null,
      "max_width": null,
      "min_height": null,
      "min_width": null,
      "object_fit": null,
      "object_position": null,
      "order": null,
      "overflow": null,
      "overflow_x": null,
      "overflow_y": null,
      "padding": null,
      "right": null,
      "top": null,
      "visibility": null,
      "width": null
     }
    },
    "952dda87c36e4d02a592ce0d54eb7c48": {
     "model_module": "@jupyter-widgets/base",
     "model_module_version": "1.2.0",
     "model_name": "LayoutModel",
     "state": {
      "_model_module": "@jupyter-widgets/base",
      "_model_module_version": "1.2.0",
      "_model_name": "LayoutModel",
      "_view_count": null,
      "_view_module": "@jupyter-widgets/base",
      "_view_module_version": "1.2.0",
      "_view_name": "LayoutView",
      "align_content": null,
      "align_items": null,
      "align_self": null,
      "border": null,
      "bottom": null,
      "display": null,
      "flex": null,
      "flex_flow": null,
      "grid_area": null,
      "grid_auto_columns": null,
      "grid_auto_flow": null,
      "grid_auto_rows": null,
      "grid_column": null,
      "grid_gap": null,
      "grid_row": null,
      "grid_template_areas": null,
      "grid_template_columns": null,
      "grid_template_rows": null,
      "height": null,
      "justify_content": null,
      "justify_items": null,
      "left": null,
      "margin": null,
      "max_height": null,
      "max_width": null,
      "min_height": null,
      "min_width": null,
      "object_fit": null,
      "object_position": null,
      "order": null,
      "overflow": null,
      "overflow_x": null,
      "overflow_y": null,
      "padding": null,
      "right": null,
      "top": null,
      "visibility": null,
      "width": null
     }
    },
    "bb664df07a244150935a2f8ef33edd0e": {
     "model_module": "@jupyter-widgets/base",
     "model_module_version": "1.2.0",
     "model_name": "LayoutModel",
     "state": {
      "_model_module": "@jupyter-widgets/base",
      "_model_module_version": "1.2.0",
      "_model_name": "LayoutModel",
      "_view_count": null,
      "_view_module": "@jupyter-widgets/base",
      "_view_module_version": "1.2.0",
      "_view_name": "LayoutView",
      "align_content": null,
      "align_items": null,
      "align_self": null,
      "border": null,
      "bottom": null,
      "display": null,
      "flex": null,
      "flex_flow": null,
      "grid_area": null,
      "grid_auto_columns": null,
      "grid_auto_flow": null,
      "grid_auto_rows": null,
      "grid_column": null,
      "grid_gap": null,
      "grid_row": null,
      "grid_template_areas": null,
      "grid_template_columns": null,
      "grid_template_rows": null,
      "height": null,
      "justify_content": null,
      "justify_items": null,
      "left": null,
      "margin": null,
      "max_height": null,
      "max_width": null,
      "min_height": null,
      "min_width": null,
      "object_fit": null,
      "object_position": null,
      "order": null,
      "overflow": null,
      "overflow_x": null,
      "overflow_y": null,
      "padding": null,
      "right": null,
      "top": null,
      "visibility": null,
      "width": null
     }
    },
    "c1b70357ae05427bb19b2138d554e9c8": {
     "model_module": "@jupyter-widgets/controls",
     "model_module_version": "1.5.0",
     "model_name": "DescriptionStyleModel",
     "state": {
      "_model_module": "@jupyter-widgets/controls",
      "_model_module_version": "1.5.0",
      "_model_name": "DescriptionStyleModel",
      "_view_count": null,
      "_view_module": "@jupyter-widgets/base",
      "_view_module_version": "1.2.0",
      "_view_name": "StyleView",
      "description_width": ""
     }
    },
    "d02ade898b914a03a54f8616944f1e5a": {
     "model_module": "@jupyter-widgets/controls",
     "model_module_version": "1.5.0",
     "model_name": "DescriptionStyleModel",
     "state": {
      "_model_module": "@jupyter-widgets/controls",
      "_model_module_version": "1.5.0",
      "_model_name": "DescriptionStyleModel",
      "_view_count": null,
      "_view_module": "@jupyter-widgets/base",
      "_view_module_version": "1.2.0",
      "_view_name": "StyleView",
      "description_width": ""
     }
    },
    "d74932d7ea7545b4b4d40e0aea5d756d": {
     "model_module": "@jupyter-widgets/controls",
     "model_module_version": "1.5.0",
     "model_name": "FloatProgressModel",
     "state": {
      "_dom_classes": [],
      "_model_module": "@jupyter-widgets/controls",
      "_model_module_version": "1.5.0",
      "_model_name": "FloatProgressModel",
      "_view_count": null,
      "_view_module": "@jupyter-widgets/controls",
      "_view_module_version": "1.5.0",
      "_view_name": "ProgressView",
      "bar_style": "success",
      "description": "",
      "description_tooltip": null,
      "layout": "IPY_MODEL_6ba12c3bb4d34bd7863fa323d92e32fa",
      "max": 50,
      "min": 0,
      "orientation": "horizontal",
      "style": "IPY_MODEL_33567e6ce4b94000ba1a6259d49cd6df",
      "value": 50
     }
    },
    "ee231bac0999417ea5981aea27f4c6aa": {
     "model_module": "@jupyter-widgets/controls",
     "model_module_version": "1.5.0",
     "model_name": "HTMLModel",
     "state": {
      "_dom_classes": [],
      "_model_module": "@jupyter-widgets/controls",
      "_model_module_version": "1.5.0",
      "_model_name": "HTMLModel",
      "_view_count": null,
      "_view_module": "@jupyter-widgets/controls",
      "_view_module_version": "1.5.0",
      "_view_name": "HTMLView",
      "description": "",
      "description_tooltip": null,
      "layout": "IPY_MODEL_bb664df07a244150935a2f8ef33edd0e",
      "placeholder": "​",
      "style": "IPY_MODEL_c1b70357ae05427bb19b2138d554e9c8",
      "value": " 50/50 [1:06:53&lt;00:00, 34.52s/it]"
     }
    },
    "f43eff2ecdaf46228eef19e2cbaf21dd": {
     "model_module": "@jupyter-widgets/controls",
     "model_module_version": "1.5.0",
     "model_name": "HBoxModel",
     "state": {
      "_dom_classes": [],
      "_model_module": "@jupyter-widgets/controls",
      "_model_module_version": "1.5.0",
      "_model_name": "HBoxModel",
      "_view_count": null,
      "_view_module": "@jupyter-widgets/controls",
      "_view_module_version": "1.5.0",
      "_view_name": "HBoxView",
      "box_style": "",
      "children": [
       "IPY_MODEL_58a287ff76064e6abed8278653c6b68b",
       "IPY_MODEL_d74932d7ea7545b4b4d40e0aea5d756d",
       "IPY_MODEL_ee231bac0999417ea5981aea27f4c6aa"
      ],
      "layout": "IPY_MODEL_952dda87c36e4d02a592ce0d54eb7c48"
     }
    }
   }
  }
 },
 "nbformat": 4,
 "nbformat_minor": 5
}
