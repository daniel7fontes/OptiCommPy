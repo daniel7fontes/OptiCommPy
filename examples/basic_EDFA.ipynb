{
 "cells": [
  {
   "cell_type": "code",
   "execution_count": 4,
   "metadata": {},
   "outputs": [],
   "source": [
    "import numpy as np\n",
    "import matplotlib.pyplot as plt\n",
    "\n",
    "from optic.core import parameters\n",
    "from optic.tx import simpleWDMTx\n",
    "from optic.amplification import edfaSM, OSA\n",
    "\n",
    "from scipy.constants import c\n",
    "from numpy.fft import fft,fftfreq\n",
    "\n",
    "import logging as logg\n",
    "logg.getLogger().setLevel(logg.INFO)\n",
    "logg.basicConfig(format='%(message)s')"
   ]
  },
  {
   "cell_type": "code",
   "execution_count": 5,
   "metadata": {},
   "outputs": [
    {
     "data": {
      "text/html": [
       "\n",
       "<style>\n",
       ".output_png {\n",
       "    display: table-cell;\n",
       "    text-align: center;\n",
       "    vertical-align: middle;\n",
       "}\n",
       "</style>\n"
      ],
      "text/plain": [
       "<IPython.core.display.HTML object>"
      ]
     },
     "execution_count": 5,
     "metadata": {},
     "output_type": "execute_result"
    }
   ],
   "source": [
    "from IPython.core.display import HTML\n",
    "from IPython.core.pylabtools import figsize\n",
    "\n",
    "HTML(\"\"\"\n",
    "<style>\n",
    ".output_png {\n",
    "    display: table-cell;\n",
    "    text-align: center;\n",
    "    vertical-align: middle;\n",
    "}\n",
    "</style>\n",
    "\"\"\")"
   ]
  },
  {
   "cell_type": "code",
   "execution_count": 6,
   "metadata": {},
   "outputs": [],
   "source": [
    "figsize(10, 3)"
   ]
  },
  {
   "cell_type": "code",
   "execution_count": 7,
   "metadata": {},
   "outputs": [],
   "source": [
    "# EDFA parameters\n",
    "param_edfa = parameters()\n",
    "param_edfa.type     = \"AGC\"\n",
    "param_edfa.value    = 20 #dB\n",
    "param_edfa.forPump  = {'pump_signal': np.array([100e-3]), 'pump_lambda': np.array([980e-9])}\n",
    "param_edfa.bckPump  = {'pump_signal': np.array([000e-3]), 'pump_lambda': np.array([980e-9])}\n",
    "param_edfa.file     = 'C:\\\\Users\\\\Adolfo\\\\Documents\\\\GitHub\\\\OptiCommPy\\\\jupyter\\\\giles_MP980.dat'\n",
    "param_edfa.fileunit = 'nm'\n",
    "param_edfa.gmtc     = 'Bessel'\n",
    "param_edfa.tol      = 0.05\n",
    "param_edfa.tolCtrl  = 0.5"
   ]
  },
  {
   "cell_type": "code",
   "execution_count": 8,
   "metadata": {},
   "outputs": [],
   "source": [
    "# Transmitter parameters:\n",
    "paramTx = parameters()\n",
    "paramTx.M   = 4             # order of the modulation format\n",
    "paramTx.Rs  = 40e9          # symbol rate [baud]\n",
    "paramTx.SpS = 256           # samples per symbol\n",
    "paramTx.Nbits = 2**12       # total number of bits per polarization\n",
    "paramTx.pulse = 'rrc'       # pulse shaping filter\n",
    "paramTx.Ntaps = 1024        # number of pulse shaping filter coefficients\n",
    "paramTx.alphaRRC = 0.01     # RRC rolloff\n",
    "paramTx.Pch_dBm = -15       # power per WDM channel [dBm]\n",
    "paramTx.Nch     = 40        # number of WDM channels\n",
    "paramTx.Fc      = c/1550e-9 # central optical frequency of the WDM spectrum\n",
    "paramTx.freqSpac = 200e9    # WDM grid spacing\n",
    "paramTx.Nmodes = 2          # number of signal modes [2 for polarization multiplexed signals]"
   ]
  },
  {
   "cell_type": "code",
   "execution_count": 9,
   "metadata": {},
   "outputs": [
    {
     "name": "stderr",
     "output_type": "stream",
     "text": [
      "channel 0\t fc : 189.5145 THz\n",
      "  mode #0\t power: -18.01 dBm\n",
      "  mode #1\t power: -18.01 dBm\n",
      "channel 0\t power: -15.00 dBm\n",
      "\n",
      "channel 1\t fc : 189.7145 THz\n",
      "  mode #0\t power: -18.01 dBm\n",
      "  mode #1\t power: -18.01 dBm\n",
      "channel 1\t power: -15.00 dBm\n",
      "\n",
      "channel 2\t fc : 189.9145 THz\n",
      "  mode #0\t power: -18.01 dBm\n",
      "  mode #1\t power: -18.01 dBm\n",
      "channel 2\t power: -15.00 dBm\n",
      "\n",
      "channel 3\t fc : 190.1145 THz\n",
      "  mode #0\t power: -18.01 dBm\n",
      "  mode #1\t power: -18.01 dBm\n",
      "channel 3\t power: -15.00 dBm\n",
      "\n",
      "channel 4\t fc : 190.3145 THz\n",
      "  mode #0\t power: -18.01 dBm\n",
      "  mode #1\t power: -18.01 dBm\n",
      "channel 4\t power: -15.00 dBm\n",
      "\n",
      "channel 5\t fc : 190.5145 THz\n",
      "  mode #0\t power: -18.01 dBm\n",
      "  mode #1\t power: -18.01 dBm\n",
      "channel 5\t power: -15.00 dBm\n",
      "\n",
      "channel 6\t fc : 190.7145 THz\n",
      "  mode #0\t power: -18.01 dBm\n",
      "  mode #1\t power: -18.01 dBm\n",
      "channel 6\t power: -15.00 dBm\n",
      "\n",
      "channel 7\t fc : 190.9145 THz\n",
      "  mode #0\t power: -18.01 dBm\n",
      "  mode #1\t power: -18.01 dBm\n",
      "channel 7\t power: -15.00 dBm\n",
      "\n",
      "channel 8\t fc : 191.1145 THz\n",
      "  mode #0\t power: -18.01 dBm\n",
      "  mode #1\t power: -18.01 dBm\n",
      "channel 8\t power: -15.00 dBm\n",
      "\n",
      "channel 9\t fc : 191.3145 THz\n",
      "  mode #0\t power: -18.01 dBm\n",
      "  mode #1\t power: -18.01 dBm\n",
      "channel 9\t power: -15.00 dBm\n",
      "\n",
      "channel 10\t fc : 191.5145 THz\n",
      "  mode #0\t power: -18.01 dBm\n",
      "  mode #1\t power: -18.01 dBm\n",
      "channel 10\t power: -15.00 dBm\n",
      "\n",
      "channel 11\t fc : 191.7145 THz\n",
      "  mode #0\t power: -18.01 dBm\n",
      "  mode #1\t power: -18.01 dBm\n",
      "channel 11\t power: -15.00 dBm\n",
      "\n",
      "channel 12\t fc : 191.9145 THz\n",
      "  mode #0\t power: -18.01 dBm\n",
      "  mode #1\t power: -18.01 dBm\n",
      "channel 12\t power: -15.00 dBm\n",
      "\n",
      "channel 13\t fc : 192.1145 THz\n",
      "  mode #0\t power: -18.01 dBm\n",
      "  mode #1\t power: -18.01 dBm\n",
      "channel 13\t power: -15.00 dBm\n",
      "\n",
      "channel 14\t fc : 192.3145 THz\n",
      "  mode #0\t power: -18.01 dBm\n",
      "  mode #1\t power: -18.01 dBm\n",
      "channel 14\t power: -15.00 dBm\n",
      "\n",
      "channel 15\t fc : 192.5145 THz\n",
      "  mode #0\t power: -18.01 dBm\n",
      "  mode #1\t power: -18.01 dBm\n",
      "channel 15\t power: -15.00 dBm\n",
      "\n",
      "channel 16\t fc : 192.7145 THz\n",
      "  mode #0\t power: -18.01 dBm\n",
      "  mode #1\t power: -18.01 dBm\n",
      "channel 16\t power: -15.00 dBm\n",
      "\n",
      "channel 17\t fc : 192.9145 THz\n",
      "  mode #0\t power: -18.01 dBm\n",
      "  mode #1\t power: -18.01 dBm\n",
      "channel 17\t power: -15.00 dBm\n",
      "\n",
      "channel 18\t fc : 193.1145 THz\n",
      "  mode #0\t power: -18.01 dBm\n",
      "  mode #1\t power: -18.01 dBm\n",
      "channel 18\t power: -15.00 dBm\n",
      "\n",
      "channel 19\t fc : 193.3145 THz\n",
      "  mode #0\t power: -18.01 dBm\n",
      "  mode #1\t power: -18.01 dBm\n",
      "channel 19\t power: -15.00 dBm\n",
      "\n",
      "channel 20\t fc : 193.5145 THz\n",
      "  mode #0\t power: -18.01 dBm\n",
      "  mode #1\t power: -18.01 dBm\n",
      "channel 20\t power: -15.00 dBm\n",
      "\n",
      "channel 21\t fc : 193.7145 THz\n",
      "  mode #0\t power: -18.01 dBm\n",
      "  mode #1\t power: -18.01 dBm\n",
      "channel 21\t power: -15.00 dBm\n",
      "\n",
      "channel 22\t fc : 193.9145 THz\n",
      "  mode #0\t power: -18.01 dBm\n",
      "  mode #1\t power: -18.01 dBm\n",
      "channel 22\t power: -15.00 dBm\n",
      "\n",
      "channel 23\t fc : 194.1145 THz\n",
      "  mode #0\t power: -18.01 dBm\n",
      "  mode #1\t power: -18.01 dBm\n",
      "channel 23\t power: -15.00 dBm\n",
      "\n",
      "channel 24\t fc : 194.3145 THz\n",
      "  mode #0\t power: -18.01 dBm\n",
      "  mode #1\t power: -18.01 dBm\n",
      "channel 24\t power: -15.00 dBm\n",
      "\n",
      "channel 25\t fc : 194.5145 THz\n",
      "  mode #0\t power: -18.01 dBm\n",
      "  mode #1\t power: -18.01 dBm\n",
      "channel 25\t power: -15.00 dBm\n",
      "\n",
      "channel 26\t fc : 194.7145 THz\n",
      "  mode #0\t power: -18.01 dBm\n",
      "  mode #1\t power: -18.01 dBm\n",
      "channel 26\t power: -15.00 dBm\n",
      "\n",
      "channel 27\t fc : 194.9145 THz\n",
      "  mode #0\t power: -18.01 dBm\n",
      "  mode #1\t power: -18.01 dBm\n",
      "channel 27\t power: -15.00 dBm\n",
      "\n",
      "channel 28\t fc : 195.1145 THz\n",
      "  mode #0\t power: -18.01 dBm\n",
      "  mode #1\t power: -18.01 dBm\n",
      "channel 28\t power: -15.00 dBm\n",
      "\n",
      "channel 29\t fc : 195.3145 THz\n",
      "  mode #0\t power: -18.01 dBm\n",
      "  mode #1\t power: -18.01 dBm\n",
      "channel 29\t power: -15.00 dBm\n",
      "\n",
      "channel 30\t fc : 195.5145 THz\n",
      "  mode #0\t power: -18.01 dBm\n",
      "  mode #1\t power: -18.01 dBm\n",
      "channel 30\t power: -15.00 dBm\n",
      "\n",
      "channel 31\t fc : 195.7145 THz\n",
      "  mode #0\t power: -18.01 dBm\n",
      "  mode #1\t power: -18.01 dBm\n",
      "channel 31\t power: -15.00 dBm\n",
      "\n",
      "channel 32\t fc : 195.9145 THz\n",
      "  mode #0\t power: -18.01 dBm\n",
      "  mode #1\t power: -18.01 dBm\n",
      "channel 32\t power: -15.00 dBm\n",
      "\n",
      "channel 33\t fc : 196.1145 THz\n",
      "  mode #0\t power: -18.01 dBm\n",
      "  mode #1\t power: -18.01 dBm\n",
      "channel 33\t power: -15.00 dBm\n",
      "\n",
      "channel 34\t fc : 196.3145 THz\n",
      "  mode #0\t power: -18.01 dBm\n",
      "  mode #1\t power: -18.01 dBm\n",
      "channel 34\t power: -15.00 dBm\n",
      "\n",
      "channel 35\t fc : 196.5145 THz\n",
      "  mode #0\t power: -18.01 dBm\n",
      "  mode #1\t power: -18.01 dBm\n",
      "channel 35\t power: -15.00 dBm\n",
      "\n",
      "channel 36\t fc : 196.7145 THz\n",
      "  mode #0\t power: -18.01 dBm\n",
      "  mode #1\t power: -18.01 dBm\n",
      "channel 36\t power: -15.00 dBm\n",
      "\n",
      "channel 37\t fc : 196.9145 THz\n",
      "  mode #0\t power: -18.01 dBm\n",
      "  mode #1\t power: -18.01 dBm\n",
      "channel 37\t power: -15.00 dBm\n",
      "\n",
      "channel 38\t fc : 197.1145 THz\n",
      "  mode #0\t power: -18.01 dBm\n",
      "  mode #1\t power: -18.01 dBm\n",
      "channel 38\t power: -15.00 dBm\n",
      "\n",
      "channel 39\t fc : 197.3145 THz\n",
      "  mode #0\t power: -18.01 dBm\n",
      "  mode #1\t power: -18.01 dBm\n",
      "channel 39\t power: -15.00 dBm\n",
      "\n",
      "total WDM signal power: 1.02 dBm\n"
     ]
    }
   ],
   "source": [
    "# generate WDM signal\n",
    "sigWDM_Tx, symbTx_, paramTx = simpleWDMTx(paramTx)"
   ]
  },
  {
   "cell_type": "code",
   "execution_count": 10,
   "metadata": {},
   "outputs": [],
   "source": [
    "lenFrqSg,isy = np.shape(sigWDM_Tx)\n",
    "Fs = paramTx.Rs*paramTx.SpS\n",
    "#Tw = 1/Fs * (paramTx.Nbits / np.log2(paramTx.M)) * paramTx.SpS\n",
    "simOpticalBand = (Fs*(c/paramTx.Fc)**2)/c"
   ]
  },
  {
   "cell_type": "code",
   "execution_count": 11,
   "metadata": {},
   "outputs": [
    {
     "data": {
      "image/png": "[encoded data removed]",
      "text/plain": [
       "<Figure size 432x288 with 1 Axes>"
      ]
     },
     "metadata": {
      "needs_background": "light"
     },
     "output_type": "display_data"
    }
   ],
   "source": [
    "OSA(sigWDM_Tx, Fs, paramTx.Fc)"
   ]
  },
  {
   "cell_type": "code",
   "execution_count": 8,
   "metadata": {},
   "outputs": [
    {
     "name": "stdout",
     "output_type": "stream",
     "text": [
      "Sample rate [THz]: 10.240\n",
      "Time window [ns]:  51.200\n",
      "Central wavelength [nm]: 1550.00\n",
      "Simulation window  [nm]: 82.062104 - [1508.97 nm - 1591.03 nm]\n",
      "Frequency spacing [GHz]: 0.019531\n",
      "Number of points: 524288\n",
      "Number of modes: 2\n",
      "Average power - TX [mW] : 1.265 mW\n",
      "Average power - TX [dBm] : 1.021 dBm\n"
     ]
    }
   ],
   "source": [
    "# information TX\n",
    "print('Sample rate [THz]: %5.3f' %(1e-12*Fs))\n",
    "print('Time window [ns]:  %5.3f' %(1e9*lenFrqSg/Fs))\n",
    "print('Central wavelength [nm]: %6.2f' %(1e9*c/paramTx.Fc))\n",
    "print('Simulation window  [nm]: %f - [%6.2f nm - %6.2f nm]' \n",
    "      %(1e9*simOpticalBand, 1e9*(c/paramTx.Fc-simOpticalBand/2), 1e9*(c/paramTx.Fc+simOpticalBand/2)))\n",
    "print('Frequency spacing [GHz]: %f' %(1e-9*Fs/lenFrqSg))\n",
    "print('Number of points: %d' %(lenFrqSg))\n",
    "print('Number of modes: %d' %(paramTx.Nmodes))\n",
    "print('Average power - TX [mW] : %.3f mW' %(1000*np.sum(np.mean(sigWDM_Tx * np.conj(sigWDM_Tx), axis = 0).real)))\n",
    "print('Average power - TX [dBm] : %.3f dBm' %(10*np.log10(np.sum(1000*np.mean(sigWDM_Tx * np.conj(sigWDM_Tx), axis = 0).real))))"
   ]
  },
  {
   "cell_type": "code",
   "execution_count": 9,
   "metadata": {},
   "outputs": [
    {
     "name": "stderr",
     "output_type": "stream",
     "text": [
      "\n",
      "EDF absorption and gain coeficients. Calculating absorption and emission cross-section ...\n",
      "EDFA SM: loop  1\n",
      "Convergence: -1.871%.\n",
      "\n",
      "EDFA SM: control loop  1\n",
      "Convergence: -3.935 dB\n",
      "Pump for.: 139.35 mW\n",
      "\n",
      "EDFA SM: loop  1\n",
      "Convergence: 27.973%.\n",
      "\n",
      "EDFA SM: loop  2\n",
      "Convergence: -0.177%.\n",
      "\n",
      "EDFA SM: control loop  2\n",
      "Convergence: -2.398 dB\n",
      "Pump for.: 163.34 mW\n",
      "\n",
      "EDFA SM: loop  1\n",
      "Convergence: 14.616%.\n",
      "\n",
      "EDFA SM: loop  2\n",
      "Convergence: -0.037%.\n",
      "\n",
      "EDFA SM: control loop  3\n",
      "Convergence: -1.697 dB\n",
      "Pump for.: 180.31 mW\n",
      "\n",
      "EDFA SM: loop  1\n",
      "Convergence: 9.400%.\n",
      "\n",
      "EDFA SM: loop  2\n",
      "Convergence: -0.063%.\n",
      "\n",
      "EDFA SM: control loop  4\n",
      "Convergence: -1.282 dB\n",
      "Pump for.: 193.13 mW\n",
      "\n",
      "EDFA SM: loop  1\n",
      "Convergence: 6.594%.\n",
      "\n",
      "EDFA SM: loop  2\n",
      "Convergence: -0.085%.\n",
      "\n",
      "EDFA SM: control loop  5\n",
      "Convergence: -1.000 dB\n",
      "Pump for.: 203.13 mW\n",
      "\n",
      "EDFA SM: loop  1\n",
      "Convergence: 4.853%.\n",
      "\n",
      "EDFA SM: control loop  6\n",
      "Convergence: -0.793 dB\n",
      "Pump for.: 211.05 mW\n",
      "\n",
      "EDFA SM: loop  1\n",
      "Convergence: 3.667%.\n",
      "\n",
      "EDFA SM: control loop  7\n",
      "Convergence: -0.637 dB\n",
      "Pump for.: 217.42 mW\n",
      "\n",
      "EDFA SM: loop  1\n",
      "Convergence: 2.844%.\n",
      "\n",
      "EDFA SM: control loop  8\n",
      "Convergence: -0.516 dB\n",
      "Pump for.: 222.58 mW\n",
      "\n",
      "EDFA SM: loop  1\n",
      "Convergence: 2.241%.\n",
      "\n"
     ]
    }
   ],
   "source": [
    "#%load_ext line_profiler\n",
    "#%lprun -f edfaSM edfaSM(sigTxo, Fs, Fc, param_edfa)\n",
    "# amplification\n",
    "Eout, PumpF, PumpB = edfaSM(sigWDM_Tx, Fs, paramTx.Fc, param_edfa)"
   ]
  },
  {
   "cell_type": "code",
   "execution_count": 10,
   "metadata": {},
   "outputs": [
    {
     "name": "stdout",
     "output_type": "stream",
     "text": [
      "Average power - RX amp [mW] : 10.963 mW\n",
      "Average power - RX amp [dBm] : 20.599 dBm\n"
     ]
    }
   ],
   "source": [
    "# information amp\n",
    "print('Average power - RX amp [mW] : %.3f mW' %(1000*np.sum(np.mean(sigWDM_Tx * np.conj(Eout), axis = 0).real)))\n",
    "print('Average power - RX amp [dBm] : %.3f dBm' %(10*np.log10(np.sum(1000*np.mean(Eout * np.conj(Eout), axis = 0).real))))"
   ]
  },
  {
   "cell_type": "code",
   "execution_count": 11,
   "metadata": {},
   "outputs": [
    {
     "data": {
      "image/png": "[encoded data removed]",
      "text/plain": [
       "<Figure size 432x288 with 1 Axes>"
      ]
     },
     "metadata": {
      "needs_background": "light"
     },
     "output_type": "display_data"
    }
   ],
   "source": [
    "OSA(Eout, Fs, paramTx.Fc)"
   ]
  }
 ],
 "metadata": {
  "kernelspec": {
   "display_name": "Python 3.9.13",
   "language": "python",
   "name": "python3"
  },
  "language_info": {
   "codemirror_mode": {
    "name": "ipython",
    "version": 3
   },
   "file_extension": ".py",
   "mimetype": "text/x-python",
   "name": "python",
   "nbconvert_exporter": "python",
   "pygments_lexer": "ipython3",
   "version": "3.9.13"
  },
  "orig_nbformat": 4,
  "vscode": {
   "interpreter": {
    "hash": "fe6c4cde29b0c19359af5e8069e76466e74ec4aaceb024dd44afb17408094e36"
   }
  }
 },
 "nbformat": 4,
 "nbformat_minor": 2
}
